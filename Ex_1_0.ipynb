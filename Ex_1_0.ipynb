{
  "cells": [
    {
      "cell_type": "markdown",
      "metadata": {
        "id": "view-in-github",
        "colab_type": "text"
      },
      "source": [
        "<a href=\"https://colab.research.google.com/github/Hainguyendangduc/PythonForDataAnalysis/blob/main/Ex_1_0.ipynb\" target=\"_parent\"><img src=\"https://colab.research.google.com/assets/colab-badge.svg\" alt=\"Open In Colab\"/></a>"
      ]
    },
    {
      "cell_type": "markdown",
      "metadata": {
        "pycharm": {
          "name": "#%% md\n"
        },
        "id": "37wSoA7CY-5l"
      },
      "source": [
        "# Ex3 - Getting and Knowing your Data"
      ]
    },
    {
      "cell_type": "markdown",
      "metadata": {
        "pycharm": {
          "name": "#%% md\n"
        },
        "id": "dSzI2ZE6Y-5s"
      },
      "source": [
        "This time we are going to pull data directly from the internet.\n",
        "Special thanks to: https://github.com/justmarkham for sharing the dataset and materials.\n",
        "\n",
        "### Step 1. Import the necessary libraries"
      ]
    },
    {
      "cell_type": "code",
      "execution_count": null,
      "metadata": {
        "pycharm": {
          "name": "#%%\n"
        },
        "id": "Y64xRNuSY-5t"
      },
      "outputs": [],
      "source": [
        "import pandas as pd"
      ]
    },
    {
      "cell_type": "markdown",
      "metadata": {
        "pycharm": {
          "name": "#%% md\n"
        },
        "id": "sosJZvaeY-5u"
      },
      "source": [
        "### Step 2. Import the dataset from this [address](https://raw.githubusercontent.com/thieu1995/csv-files/main/data/pandas/u.user)."
      ]
    },
    {
      "cell_type": "code",
      "source": [
        "df = pd.read_csv(\"https://raw.githubusercontent.com/thieu1995/csv-files/main/data/pandas/u.user\")"
      ],
      "metadata": {
        "id": "TqSPZZE0aHBk"
      },
      "execution_count": null,
      "outputs": []
    },
    {
      "cell_type": "code",
      "source": [
        "print(df)"
      ],
      "metadata": {
        "colab": {
          "base_uri": "https://localhost:8080/"
        },
        "id": "WuZeTtJBa_gO",
        "outputId": "c94d6f9d-9ef1-4178-c1f2-4bb2f2620d99"
      },
      "execution_count": null,
      "outputs": [
        {
          "output_type": "stream",
          "name": "stdout",
          "text": [
            "    user_id|age|gender|occupation|zip_code\n",
            "0                  1|24|M|technician|85711\n",
            "1                       2|53|F|other|94043\n",
            "2                      3|23|M|writer|32067\n",
            "3                  4|24|M|technician|43537\n",
            "4                       5|33|F|other|15213\n",
            "..                                     ...\n",
            "938                 939|26|F|student|33319\n",
            "939           940|32|M|administrator|02215\n",
            "940                 941|20|M|student|97229\n",
            "941               942|48|F|librarian|78209\n",
            "942                 943|22|M|student|77841\n",
            "\n",
            "[943 rows x 1 columns]\n"
          ]
        }
      ]
    },
    {
      "cell_type": "markdown",
      "metadata": {
        "pycharm": {
          "name": "#%% md\n"
        },
        "id": "Gva151A-Y-5u"
      },
      "source": [
        "### Step 3. Assign it to a variable called users and use the 'user_id' as index"
      ]
    },
    {
      "cell_type": "code",
      "source": [],
      "metadata": {
        "id": "xWfFdDwT7Vet"
      },
      "execution_count": null,
      "outputs": []
    },
    {
      "cell_type": "markdown",
      "metadata": {
        "pycharm": {
          "name": "#%% md\n"
        },
        "id": "YfSaoieoY-5v"
      },
      "source": [
        "### Step 4. See the first 25 entries"
      ]
    },
    {
      "cell_type": "code",
      "source": [
        "print(df[:25])"
      ],
      "metadata": {
        "colab": {
          "base_uri": "https://localhost:8080/"
        },
        "id": "yQWAMjNfdhQ9",
        "outputId": "e2b1f67a-5185-446e-b839-ddbd06feee5e"
      },
      "execution_count": null,
      "outputs": [
        {
          "output_type": "stream",
          "name": "stdout",
          "text": [
            "   user_id|age|gender|occupation|zip_code\n",
            "0                 1|24|M|technician|85711\n",
            "1                      2|53|F|other|94043\n",
            "2                     3|23|M|writer|32067\n",
            "3                 4|24|M|technician|43537\n",
            "4                      5|33|F|other|15213\n",
            "5                  6|42|M|executive|98101\n",
            "6              7|57|M|administrator|91344\n",
            "7              8|36|M|administrator|05201\n",
            "8                    9|29|M|student|01002\n",
            "9                    10|53|M|lawyer|90703\n",
            "10                    11|39|F|other|30329\n",
            "11                    12|28|F|other|06405\n",
            "12                 13|47|M|educator|29206\n",
            "13                14|45|M|scientist|55106\n",
            "14                 15|49|F|educator|97301\n",
            "15            16|21|M|entertainment|10309\n",
            "16               17|30|M|programmer|06355\n",
            "17                    18|35|F|other|37212\n",
            "18                19|40|M|librarian|02138\n",
            "19                20|42|F|homemaker|95660\n",
            "20                   21|26|M|writer|30068\n",
            "21                   22|25|M|writer|40206\n",
            "22                   23|30|F|artist|48197\n",
            "23                   24|21|F|artist|94533\n",
            "24                 25|39|M|engineer|55107\n"
          ]
        }
      ]
    },
    {
      "cell_type": "markdown",
      "metadata": {
        "pycharm": {
          "name": "#%% md\n"
        },
        "id": "3ViXLGq8Y-5w"
      },
      "source": [
        "### Step 5. See the last 10 entries"
      ]
    },
    {
      "cell_type": "code",
      "source": [
        "print(df.tail(10))"
      ],
      "metadata": {
        "colab": {
          "base_uri": "https://localhost:8080/"
        },
        "id": "IBARgJNqdZGT",
        "outputId": "0b71d4c4-805d-483a-821d-a1671890d65a"
      },
      "execution_count": null,
      "outputs": [
        {
          "output_type": "stream",
          "name": "stdout",
          "text": [
            "    user_id|age|gender|occupation|zip_code\n",
            "933                934|61|M|engineer|22902\n",
            "934                  935|42|M|doctor|66221\n",
            "935                   936|24|M|other|32789\n",
            "936                937|48|M|educator|98072\n",
            "937              938|38|F|technician|55038\n",
            "938                 939|26|F|student|33319\n",
            "939           940|32|M|administrator|02215\n",
            "940                 941|20|M|student|97229\n",
            "941               942|48|F|librarian|78209\n",
            "942                 943|22|M|student|77841\n"
          ]
        }
      ]
    },
    {
      "cell_type": "markdown",
      "metadata": {
        "pycharm": {
          "name": "#%% md\n"
        },
        "id": "dh1MtnfcY-5x"
      },
      "source": [
        "### Step 6. What is the number of observations in the dataset?"
      ]
    },
    {
      "cell_type": "code",
      "execution_count": null,
      "metadata": {
        "pycharm": {
          "name": "#%%\n"
        },
        "id": "Dp_FhhUpY-5x",
        "colab": {
          "base_uri": "https://localhost:8080/"
        },
        "outputId": "319373e3-2837-467e-bc30-f2f2bc0be216"
      },
      "outputs": [
        {
          "output_type": "stream",
          "name": "stdout",
          "text": [
            "943\n"
          ]
        }
      ],
      "source": [
        "print(df.size)"
      ]
    },
    {
      "cell_type": "markdown",
      "metadata": {
        "pycharm": {
          "name": "#%% md\n"
        },
        "id": "yUXtGqPCY-5y"
      },
      "source": [
        "### Step 7. What is the number of columns in the dataset?"
      ]
    },
    {
      "cell_type": "code",
      "execution_count": null,
      "metadata": {
        "pycharm": {
          "name": "#%%\n"
        },
        "id": "-bT-ewlXY-5y",
        "colab": {
          "base_uri": "https://localhost:8080/"
        },
        "outputId": "7ae0cff5-03bf-4611-a17f-9ace2bfcdede"
      },
      "outputs": [
        {
          "output_type": "stream",
          "name": "stdout",
          "text": [
            "Index(['user_id|age|gender|occupation|zip_code'], dtype='object')\n"
          ]
        }
      ],
      "source": [
        "print()"
      ]
    },
    {
      "cell_type": "markdown",
      "metadata": {
        "pycharm": {
          "name": "#%% md\n"
        },
        "id": "VdwJUMoDY-5z"
      },
      "source": [
        "### Step 8. Print the name of all the columns."
      ]
    },
    {
      "cell_type": "code",
      "execution_count": null,
      "metadata": {
        "pycharm": {
          "name": "#%%\n"
        },
        "id": "WNRrKsfvY-5z",
        "colab": {
          "base_uri": "https://localhost:8080/"
        },
        "outputId": "d94712f4-954e-43a5-974b-e2da340474be"
      },
      "outputs": [
        {
          "output_type": "stream",
          "name": "stdout",
          "text": [
            "Index(['user_id|age|gender|occupation|zip_code'], dtype='object')\n"
          ]
        }
      ],
      "source": [
        "print(df.columns)"
      ]
    },
    {
      "cell_type": "markdown",
      "metadata": {
        "pycharm": {
          "name": "#%% md\n"
        },
        "id": "IpcVFecaY-5z"
      },
      "source": [
        "### Step 9. How is the dataset indexed?"
      ]
    },
    {
      "cell_type": "code",
      "execution_count": null,
      "metadata": {
        "pycharm": {
          "name": "#%%\n"
        },
        "id": "6aqZWV_DY-50",
        "colab": {
          "base_uri": "https://localhost:8080/"
        },
        "outputId": "741e0fa8-5224-46f7-94ae-b0d0f74ab987"
      },
      "outputs": [
        {
          "output_type": "stream",
          "name": "stdout",
          "text": [
            "[RangeIndex(start=0, stop=943, step=1), Index(['user_id|age|gender|occupation|zip_code'], dtype='object')]\n"
          ]
        }
      ],
      "source": [
        "print(df.axes)"
      ]
    },
    {
      "cell_type": "markdown",
      "metadata": {
        "pycharm": {
          "name": "#%% md\n"
        },
        "id": "Ba1-Zf0gY-50"
      },
      "source": [
        "### Step 10. What is the data type of each column?"
      ]
    },
    {
      "cell_type": "code",
      "execution_count": null,
      "metadata": {
        "pycharm": {
          "name": "#%%\n"
        },
        "id": "AkyOS308Y-50",
        "colab": {
          "base_uri": "https://localhost:8080/"
        },
        "outputId": "4e4b52fe-0e2e-408d-8d17-2926ffd6c273"
      },
      "outputs": [
        {
          "output_type": "stream",
          "name": "stdout",
          "text": [
            "user_id|age|gender|occupation|zip_code    object\n",
            "dtype: object\n"
          ]
        }
      ],
      "source": [
        "print(df.dtypes)"
      ]
    },
    {
      "cell_type": "markdown",
      "metadata": {
        "pycharm": {
          "name": "#%% md\n"
        },
        "id": "jSQ6n6H6Y-50"
      },
      "source": [
        "### Step 11. Print only the occupation column"
      ]
    },
    {
      "cell_type": "code",
      "source": [
        "print(df['occupation']"
      ],
      "metadata": {
        "id": "NTQAr6n4gTy3"
      },
      "execution_count": null,
      "outputs": []
    },
    {
      "cell_type": "markdown",
      "metadata": {
        "pycharm": {
          "name": "#%% md\n"
        },
        "id": "w-hDaBucY-51"
      },
      "source": [
        "### Step 12. How many different occupations are in this dataset?"
      ]
    },
    {
      "cell_type": "code",
      "source": [],
      "metadata": {
        "id": "VpR3pyZ-gTNb"
      },
      "execution_count": null,
      "outputs": []
    },
    {
      "cell_type": "code",
      "execution_count": null,
      "metadata": {
        "pycharm": {
          "name": "#%%\n"
        },
        "id": "ugUI4XmjY-51"
      },
      "outputs": [],
      "source": []
    },
    {
      "cell_type": "markdown",
      "metadata": {
        "pycharm": {
          "name": "#%% md\n"
        },
        "id": "jltMW3GDY-51"
      },
      "source": [
        "### Step 13. What is the most frequent occupation?"
      ]
    },
    {
      "cell_type": "code",
      "execution_count": null,
      "metadata": {
        "pycharm": {
          "name": "#%%\n"
        },
        "id": "krJlK_FoY-51"
      },
      "outputs": [],
      "source": []
    },
    {
      "cell_type": "markdown",
      "metadata": {
        "pycharm": {
          "name": "#%% md\n"
        },
        "id": "cYVsktlCY-51"
      },
      "source": [
        "### Step 14. Summarize the DataFrame."
      ]
    },
    {
      "cell_type": "code",
      "execution_count": null,
      "metadata": {
        "pycharm": {
          "name": "#%%\n"
        },
        "id": "19WZUWOAY-52"
      },
      "outputs": [],
      "source": []
    },
    {
      "cell_type": "markdown",
      "metadata": {
        "pycharm": {
          "name": "#%% md\n"
        },
        "id": "Opy5vsT7Y-52"
      },
      "source": [
        "### Step 15. Summarize all the columns"
      ]
    },
    {
      "cell_type": "code",
      "execution_count": null,
      "metadata": {
        "pycharm": {
          "name": "#%%\n"
        },
        "id": "z7FEcGLrY-52"
      },
      "outputs": [],
      "source": []
    },
    {
      "cell_type": "markdown",
      "metadata": {
        "pycharm": {
          "name": "#%% md\n"
        },
        "id": "-K_HyW7cY-52"
      },
      "source": [
        "### Step 16. Summarize only the occupation column"
      ]
    },
    {
      "cell_type": "code",
      "execution_count": null,
      "metadata": {
        "pycharm": {
          "name": "#%%\n"
        },
        "id": "JFl_sF9EY-52"
      },
      "outputs": [],
      "source": []
    },
    {
      "cell_type": "markdown",
      "metadata": {
        "pycharm": {
          "name": "#%% md\n"
        },
        "id": "zoj-m9V3Y-52"
      },
      "source": [
        "### Step 17. What is the mean age of users?"
      ]
    },
    {
      "cell_type": "code",
      "execution_count": null,
      "metadata": {
        "pycharm": {
          "name": "#%%\n"
        },
        "id": "yVIwRvs3Y-52"
      },
      "outputs": [],
      "source": []
    },
    {
      "cell_type": "markdown",
      "metadata": {
        "pycharm": {
          "name": "#%% md\n"
        },
        "id": "CR-8mZASY-53"
      },
      "source": [
        "### Step 18. What is the age with least occurrence?"
      ]
    },
    {
      "cell_type": "code",
      "execution_count": null,
      "metadata": {
        "pycharm": {
          "name": "#%%\n"
        },
        "id": "DRwfzJfpY-53"
      },
      "outputs": [],
      "source": []
    }
  ],
  "metadata": {
    "anaconda-cloud": {},
    "kernelspec": {
      "display_name": "Python [default]",
      "language": "python",
      "name": "python2"
    },
    "language_info": {
      "codemirror_mode": {
        "name": "ipython",
        "version": 2
      },
      "file_extension": ".py",
      "mimetype": "text/x-python",
      "name": "python",
      "nbconvert_exporter": "python",
      "pygments_lexer": "ipython2",
      "version": "2.7.12"
    },
    "colab": {
      "provenance": [],
      "include_colab_link": true
    }
  },
  "nbformat": 4,
  "nbformat_minor": 0
}